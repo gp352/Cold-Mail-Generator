{
 "cells": [
  {
   "cell_type": "code",
   "execution_count": null,
   "id": "79bfbcad",
   "metadata": {},
   "outputs": [],
   "source": [
    "import chromadb\n",
    "\n",
    "# Create a client instance\n",
    "client = chromadb.Client()\n",
    "\n",
    "# Create a collection named 'my_collection'\n",
    "collection1 = client.create_collection(name=\"my_collection\")\n",
    "\n",
    "# Add documents to the collection\n",
    "collection1.add(\n",
    "    documents=[\n",
    "        \"This document is about New York\",\n",
    "        \"This document is about Delhi\"\n",
    "    ],\n",
    "    ids=['id1', 'id2']\n",
    ")\n",
    "\n",
    "# Retrieve all documents from the collection\n",
    "all_docs = collection1.get(ids=None)\n",
    "\n",
    "# Print the retrieved documents\n",
    "print(all_docs)\n"
   ]
  },
  {
   "cell_type": "code",
   "execution_count": null,
   "id": "5dae319d",
   "metadata": {},
   "outputs": [],
   "source": []
  },
  {
   "cell_type": "code",
   "execution_count": null,
   "id": "5786b52b",
   "metadata": {},
   "outputs": [],
   "source": []
  },
  {
   "cell_type": "code",
   "execution_count": null,
   "id": "a1a55e4b",
   "metadata": {},
   "outputs": [],
   "source": []
  },
  {
   "cell_type": "code",
   "execution_count": null,
   "id": "225496ae",
   "metadata": {},
   "outputs": [],
   "source": []
  }
 ],
 "metadata": {
  "kernelspec": {
   "display_name": "Python 3 (ipykernel)",
   "language": "python",
   "name": "python3"
  },
  "language_info": {
   "codemirror_mode": {
    "name": "ipython",
    "version": 3
   },
   "file_extension": ".py",
   "mimetype": "text/x-python",
   "name": "python",
   "nbconvert_exporter": "python",
   "pygments_lexer": "ipython3",
   "version": "3.11.4"
  }
 },
 "nbformat": 4,
 "nbformat_minor": 5
}
